{
 "cells": [
  {
   "cell_type": "markdown",
   "metadata": {},
   "source": [
    "## Problem Statement\n",
    "We are going to classify the delays in domestic flights using the dataset from the month of February that is made publicly available by the Bureau of Transportation Statistics, Govt of USA.\n",
    "\n",
    "We are going to use *logistic regrssion* as the primary classifier but as we go along we'll also use *SVM* and *Neural Networks* based on the accuracy of the predictor!"
   ]
  },
  {
   "cell_type": "code",
   "execution_count": 62,
   "metadata": {},
   "outputs": [],
   "source": [
    "import pandas as pd\n",
    "import seaborn as sns\n",
    "import matplotlib.pyplot as plt"
   ]
  },
  {
   "cell_type": "code",
   "execution_count": 48,
   "metadata": {},
   "outputs": [],
   "source": [
    "df = pd.read_csv(\"Feb_2020_ontime.csv\")"
   ]
  },
  {
   "cell_type": "code",
   "execution_count": 49,
   "metadata": {},
   "outputs": [
    {
     "data": {
      "text/html": [
       "<div>\n",
       "<style scoped>\n",
       "    .dataframe tbody tr th:only-of-type {\n",
       "        vertical-align: middle;\n",
       "    }\n",
       "\n",
       "    .dataframe tbody tr th {\n",
       "        vertical-align: top;\n",
       "    }\n",
       "\n",
       "    .dataframe thead th {\n",
       "        text-align: right;\n",
       "    }\n",
       "</style>\n",
       "<table border=\"1\" class=\"dataframe\">\n",
       "  <thead>\n",
       "    <tr style=\"text-align: right;\">\n",
       "      <th></th>\n",
       "      <th>DAY_OF_MONTH</th>\n",
       "      <th>DAY_OF_WEEK</th>\n",
       "      <th>OP_UNIQUE_CARRIER</th>\n",
       "      <th>OP_CARRIER_AIRLINE_ID</th>\n",
       "      <th>OP_CARRIER</th>\n",
       "      <th>TAIL_NUM</th>\n",
       "      <th>OP_CARRIER_FL_NUM</th>\n",
       "      <th>ORIGIN_AIRPORT_ID</th>\n",
       "      <th>ORIGIN_AIRPORT_SEQ_ID</th>\n",
       "      <th>ORIGIN</th>\n",
       "      <th>...</th>\n",
       "      <th>DEST</th>\n",
       "      <th>DEP_TIME</th>\n",
       "      <th>DEP_DEL15</th>\n",
       "      <th>DEP_TIME_BLK</th>\n",
       "      <th>ARR_TIME</th>\n",
       "      <th>ARR_DEL15</th>\n",
       "      <th>CANCELLED</th>\n",
       "      <th>DIVERTED</th>\n",
       "      <th>DISTANCE</th>\n",
       "      <th>Unnamed: 21</th>\n",
       "    </tr>\n",
       "  </thead>\n",
       "  <tbody>\n",
       "    <tr>\n",
       "      <th>0</th>\n",
       "      <td>1</td>\n",
       "      <td>6</td>\n",
       "      <td>MQ</td>\n",
       "      <td>20398</td>\n",
       "      <td>MQ</td>\n",
       "      <td>N269NN</td>\n",
       "      <td>3825</td>\n",
       "      <td>13930</td>\n",
       "      <td>1393007</td>\n",
       "      <td>ORD</td>\n",
       "      <td>...</td>\n",
       "      <td>TUL</td>\n",
       "      <td>1646.0</td>\n",
       "      <td>0.0</td>\n",
       "      <td>1600-1659</td>\n",
       "      <td>1820.0</td>\n",
       "      <td>0.0</td>\n",
       "      <td>0.0</td>\n",
       "      <td>0.0</td>\n",
       "      <td>585.0</td>\n",
       "      <td>NaN</td>\n",
       "    </tr>\n",
       "    <tr>\n",
       "      <th>1</th>\n",
       "      <td>1</td>\n",
       "      <td>6</td>\n",
       "      <td>MQ</td>\n",
       "      <td>20398</td>\n",
       "      <td>MQ</td>\n",
       "      <td>N908AE</td>\n",
       "      <td>3829</td>\n",
       "      <td>12478</td>\n",
       "      <td>1247805</td>\n",
       "      <td>JFK</td>\n",
       "      <td>...</td>\n",
       "      <td>BNA</td>\n",
       "      <td>1336.0</td>\n",
       "      <td>0.0</td>\n",
       "      <td>1300-1359</td>\n",
       "      <td>1458.0</td>\n",
       "      <td>0.0</td>\n",
       "      <td>0.0</td>\n",
       "      <td>0.0</td>\n",
       "      <td>765.0</td>\n",
       "      <td>NaN</td>\n",
       "    </tr>\n",
       "    <tr>\n",
       "      <th>2</th>\n",
       "      <td>1</td>\n",
       "      <td>6</td>\n",
       "      <td>MQ</td>\n",
       "      <td>20398</td>\n",
       "      <td>MQ</td>\n",
       "      <td>N663AR</td>\n",
       "      <td>3831</td>\n",
       "      <td>11953</td>\n",
       "      <td>1195302</td>\n",
       "      <td>GNV</td>\n",
       "      <td>...</td>\n",
       "      <td>MIA</td>\n",
       "      <td>844.0</td>\n",
       "      <td>0.0</td>\n",
       "      <td>0800-0859</td>\n",
       "      <td>1020.0</td>\n",
       "      <td>1.0</td>\n",
       "      <td>0.0</td>\n",
       "      <td>0.0</td>\n",
       "      <td>294.0</td>\n",
       "      <td>NaN</td>\n",
       "    </tr>\n",
       "    <tr>\n",
       "      <th>3</th>\n",
       "      <td>1</td>\n",
       "      <td>6</td>\n",
       "      <td>MQ</td>\n",
       "      <td>20398</td>\n",
       "      <td>MQ</td>\n",
       "      <td>N618AE</td>\n",
       "      <td>3833</td>\n",
       "      <td>11298</td>\n",
       "      <td>1129806</td>\n",
       "      <td>DFW</td>\n",
       "      <td>...</td>\n",
       "      <td>SJT</td>\n",
       "      <td>852.0</td>\n",
       "      <td>0.0</td>\n",
       "      <td>0800-0859</td>\n",
       "      <td>955.0</td>\n",
       "      <td>0.0</td>\n",
       "      <td>0.0</td>\n",
       "      <td>0.0</td>\n",
       "      <td>229.0</td>\n",
       "      <td>NaN</td>\n",
       "    </tr>\n",
       "    <tr>\n",
       "      <th>4</th>\n",
       "      <td>1</td>\n",
       "      <td>6</td>\n",
       "      <td>MQ</td>\n",
       "      <td>20398</td>\n",
       "      <td>MQ</td>\n",
       "      <td>N618AE</td>\n",
       "      <td>3833</td>\n",
       "      <td>14842</td>\n",
       "      <td>1484202</td>\n",
       "      <td>SJT</td>\n",
       "      <td>...</td>\n",
       "      <td>DFW</td>\n",
       "      <td>1024.0</td>\n",
       "      <td>0.0</td>\n",
       "      <td>1000-1059</td>\n",
       "      <td>1132.0</td>\n",
       "      <td>0.0</td>\n",
       "      <td>0.0</td>\n",
       "      <td>0.0</td>\n",
       "      <td>229.0</td>\n",
       "      <td>NaN</td>\n",
       "    </tr>\n",
       "  </tbody>\n",
       "</table>\n",
       "<p>5 rows × 22 columns</p>\n",
       "</div>"
      ],
      "text/plain": [
       "   DAY_OF_MONTH  DAY_OF_WEEK OP_UNIQUE_CARRIER  OP_CARRIER_AIRLINE_ID  \\\n",
       "0             1            6                MQ                  20398   \n",
       "1             1            6                MQ                  20398   \n",
       "2             1            6                MQ                  20398   \n",
       "3             1            6                MQ                  20398   \n",
       "4             1            6                MQ                  20398   \n",
       "\n",
       "  OP_CARRIER TAIL_NUM  OP_CARRIER_FL_NUM  ORIGIN_AIRPORT_ID  \\\n",
       "0         MQ   N269NN               3825              13930   \n",
       "1         MQ   N908AE               3829              12478   \n",
       "2         MQ   N663AR               3831              11953   \n",
       "3         MQ   N618AE               3833              11298   \n",
       "4         MQ   N618AE               3833              14842   \n",
       "\n",
       "   ORIGIN_AIRPORT_SEQ_ID ORIGIN  ...  DEST  DEP_TIME DEP_DEL15  DEP_TIME_BLK  \\\n",
       "0                1393007    ORD  ...   TUL    1646.0       0.0     1600-1659   \n",
       "1                1247805    JFK  ...   BNA    1336.0       0.0     1300-1359   \n",
       "2                1195302    GNV  ...   MIA     844.0       0.0     0800-0859   \n",
       "3                1129806    DFW  ...   SJT     852.0       0.0     0800-0859   \n",
       "4                1484202    SJT  ...   DFW    1024.0       0.0     1000-1059   \n",
       "\n",
       "   ARR_TIME ARR_DEL15  CANCELLED  DIVERTED  DISTANCE  Unnamed: 21  \n",
       "0    1820.0       0.0        0.0       0.0     585.0          NaN  \n",
       "1    1458.0       0.0        0.0       0.0     765.0          NaN  \n",
       "2    1020.0       1.0        0.0       0.0     294.0          NaN  \n",
       "3     955.0       0.0        0.0       0.0     229.0          NaN  \n",
       "4    1132.0       0.0        0.0       0.0     229.0          NaN  \n",
       "\n",
       "[5 rows x 22 columns]"
      ]
     },
     "execution_count": 49,
     "metadata": {},
     "output_type": "execute_result"
    }
   ],
   "source": [
    "df.head()"
   ]
  },
  {
   "cell_type": "code",
   "execution_count": 50,
   "metadata": {},
   "outputs": [
    {
     "data": {
      "text/plain": [
       "Index(['DAY_OF_MONTH', 'DAY_OF_WEEK', 'OP_UNIQUE_CARRIER',\n",
       "       'OP_CARRIER_AIRLINE_ID', 'OP_CARRIER', 'TAIL_NUM', 'OP_CARRIER_FL_NUM',\n",
       "       'ORIGIN_AIRPORT_ID', 'ORIGIN_AIRPORT_SEQ_ID', 'ORIGIN',\n",
       "       'DEST_AIRPORT_ID', 'DEST_AIRPORT_SEQ_ID', 'DEST', 'DEP_TIME',\n",
       "       'DEP_DEL15', 'DEP_TIME_BLK', 'ARR_TIME', 'ARR_DEL15', 'CANCELLED',\n",
       "       'DIVERTED', 'DISTANCE'],\n",
       "      dtype='object')"
      ]
     },
     "execution_count": 50,
     "metadata": {},
     "output_type": "execute_result"
    }
   ],
   "source": [
    "#Let's go ahead and delete the last column in dataset\n",
    "df.drop(\"Unnamed: 21\", axis = 1, inplace = True)\n",
    "#Let's check for the columns name and understand what we can work with \n",
    "df.columns"
   ]
  },
  {
   "cell_type": "code",
   "execution_count": 51,
   "metadata": {},
   "outputs": [
    {
     "data": {
      "text/plain": [
       "array(['MQ', 'B6', 'OH', 'AA', 'NK', 'YX', 'F9', 'DL', 'YV', 'EV', 'HA',\n",
       "       '9E', 'G4', 'UA', 'AS', 'WN', 'OO'], dtype=object)"
      ]
     },
     "execution_count": 51,
     "metadata": {},
     "output_type": "execute_result"
    }
   ],
   "source": [
    "# let's explore a bit more and understand what some of these columns represent \n",
    "df['OP_UNIQUE_CARRIER'].unique()"
   ]
  },
  {
   "cell_type": "code",
   "execution_count": 52,
   "metadata": {},
   "outputs": [
    {
     "data": {
      "text/plain": [
       "array([20398, 20409, 20397, 19805, 20416, 20452, 20436, 19790, 20378,\n",
       "       20366, 19690, 20363, 20368, 19977, 19930, 19393, 20304])"
      ]
     },
     "execution_count": 52,
     "metadata": {},
     "output_type": "execute_result"
    }
   ],
   "source": [
    "df['OP_CARRIER_AIRLINE_ID'].unique()"
   ]
  },
  {
   "cell_type": "code",
   "execution_count": 53,
   "metadata": {},
   "outputs": [
    {
     "data": {
      "text/plain": [
       "array(['MQ', 'B6', 'OH', 'AA', 'NK', 'YX', 'F9', 'DL', 'YV', 'EV', 'HA',\n",
       "       '9E', 'G4', 'UA', 'AS', 'WN', 'OO'], dtype=object)"
      ]
     },
     "execution_count": 53,
     "metadata": {},
     "output_type": "execute_result"
    }
   ],
   "source": [
    "df['OP_CARRIER'].unique()"
   ]
  },
  {
   "cell_type": "markdown",
   "metadata": {},
   "source": [
    "In our case, **OP_UNIQUE_CARRIER, OP_CARRIER and OP_CARRIER_AIRLINE_ID** all kind of means the same thing. Those are codes assinged by the DOT to identify individual carriers. \n",
    "\n",
    "For our analysis let's use just **OP_CARRIER** and drop the other two columns.\n",
    "\n",
    "Also, let's remove the **TAIL_NUM AND OP_CARRIER_FL_NUM** from our dataset. "
   ]
  },
  {
   "cell_type": "code",
   "execution_count": 54,
   "metadata": {},
   "outputs": [],
   "source": [
    "df.drop(['OP_UNIQUE_CARRIER','OP_CARRIER_AIRLINE_ID','TAIL_NUM','OP_CARRIER_FL_NUM','DIVERTED'], axis = 1, inplace = True)"
   ]
  },
  {
   "cell_type": "code",
   "execution_count": 55,
   "metadata": {},
   "outputs": [
    {
     "data": {
      "text/plain": [
       "DAY_OF_MONTH                0\n",
       "DAY_OF_WEEK                 0\n",
       "OP_CARRIER                  0\n",
       "ORIGIN_AIRPORT_ID           0\n",
       "ORIGIN_AIRPORT_SEQ_ID       0\n",
       "ORIGIN                      0\n",
       "DEST_AIRPORT_ID             0\n",
       "DEST_AIRPORT_SEQ_ID         0\n",
       "DEST                        0\n",
       "DEP_TIME                 4938\n",
       "DEP_DEL15                4951\n",
       "DEP_TIME_BLK                0\n",
       "ARR_TIME                 5287\n",
       "ARR_DEL15                6192\n",
       "CANCELLED                   0\n",
       "DISTANCE                    0\n",
       "dtype: int64"
      ]
     },
     "execution_count": 55,
     "metadata": {},
     "output_type": "execute_result"
    }
   ],
   "source": [
    "#Checking for nulll values before moving forward \n",
    "df.isna().sum()"
   ]
  },
  {
   "cell_type": "code",
   "execution_count": 56,
   "metadata": {},
   "outputs": [],
   "source": [
    "# Let's go ahead and drop all the null values and store it in a new dataframe for ease of computation\n",
    "df1 = df.dropna(how = 'any', axis = 1)"
   ]
  },
  {
   "cell_type": "markdown",
   "metadata": {},
   "source": [
    "Now let's use the `describe` function to see how our data looks."
   ]
  },
  {
   "cell_type": "code",
   "execution_count": 57,
   "metadata": {},
   "outputs": [
    {
     "data": {
      "text/html": [
       "<div>\n",
       "<style scoped>\n",
       "    .dataframe tbody tr th:only-of-type {\n",
       "        vertical-align: middle;\n",
       "    }\n",
       "\n",
       "    .dataframe tbody tr th {\n",
       "        vertical-align: top;\n",
       "    }\n",
       "\n",
       "    .dataframe thead th {\n",
       "        text-align: right;\n",
       "    }\n",
       "</style>\n",
       "<table border=\"1\" class=\"dataframe\">\n",
       "  <thead>\n",
       "    <tr style=\"text-align: right;\">\n",
       "      <th></th>\n",
       "      <th>DAY_OF_MONTH</th>\n",
       "      <th>DAY_OF_WEEK</th>\n",
       "      <th>ORIGIN_AIRPORT_ID</th>\n",
       "      <th>ORIGIN_AIRPORT_SEQ_ID</th>\n",
       "      <th>DEST_AIRPORT_ID</th>\n",
       "      <th>DEST_AIRPORT_SEQ_ID</th>\n",
       "      <th>CANCELLED</th>\n",
       "      <th>DISTANCE</th>\n",
       "    </tr>\n",
       "  </thead>\n",
       "  <tbody>\n",
       "    <tr>\n",
       "      <th>count</th>\n",
       "      <td>574268.000000</td>\n",
       "      <td>574268.000000</td>\n",
       "      <td>574268.000000</td>\n",
       "      <td>5.742680e+05</td>\n",
       "      <td>574268.000000</td>\n",
       "      <td>5.742680e+05</td>\n",
       "      <td>574268.000000</td>\n",
       "      <td>574268.000000</td>\n",
       "    </tr>\n",
       "    <tr>\n",
       "      <th>mean</th>\n",
       "      <td>15.179477</td>\n",
       "      <td>3.989280</td>\n",
       "      <td>12658.021716</td>\n",
       "      <td>1.265806e+06</td>\n",
       "      <td>12658.143861</td>\n",
       "      <td>1.265818e+06</td>\n",
       "      <td>0.008942</td>\n",
       "      <td>795.735522</td>\n",
       "    </tr>\n",
       "    <tr>\n",
       "      <th>std</th>\n",
       "      <td>8.295999</td>\n",
       "      <td>1.988345</td>\n",
       "      <td>1524.563452</td>\n",
       "      <td>1.524561e+05</td>\n",
       "      <td>1524.594853</td>\n",
       "      <td>1.524592e+05</td>\n",
       "      <td>0.094138</td>\n",
       "      <td>582.960817</td>\n",
       "    </tr>\n",
       "    <tr>\n",
       "      <th>min</th>\n",
       "      <td>1.000000</td>\n",
       "      <td>1.000000</td>\n",
       "      <td>10135.000000</td>\n",
       "      <td>1.013506e+06</td>\n",
       "      <td>10135.000000</td>\n",
       "      <td>1.013506e+06</td>\n",
       "      <td>0.000000</td>\n",
       "      <td>31.000000</td>\n",
       "    </tr>\n",
       "    <tr>\n",
       "      <th>25%</th>\n",
       "      <td>8.000000</td>\n",
       "      <td>2.000000</td>\n",
       "      <td>11292.000000</td>\n",
       "      <td>1.129202e+06</td>\n",
       "      <td>11292.000000</td>\n",
       "      <td>1.129202e+06</td>\n",
       "      <td>0.000000</td>\n",
       "      <td>369.000000</td>\n",
       "    </tr>\n",
       "    <tr>\n",
       "      <th>50%</th>\n",
       "      <td>15.000000</td>\n",
       "      <td>4.000000</td>\n",
       "      <td>12889.000000</td>\n",
       "      <td>1.288903e+06</td>\n",
       "      <td>12889.000000</td>\n",
       "      <td>1.288903e+06</td>\n",
       "      <td>0.000000</td>\n",
       "      <td>641.000000</td>\n",
       "    </tr>\n",
       "    <tr>\n",
       "      <th>75%</th>\n",
       "      <td>22.000000</td>\n",
       "      <td>6.000000</td>\n",
       "      <td>14027.000000</td>\n",
       "      <td>1.402702e+06</td>\n",
       "      <td>14027.000000</td>\n",
       "      <td>1.402702e+06</td>\n",
       "      <td>0.000000</td>\n",
       "      <td>1036.000000</td>\n",
       "    </tr>\n",
       "    <tr>\n",
       "      <th>max</th>\n",
       "      <td>29.000000</td>\n",
       "      <td>7.000000</td>\n",
       "      <td>16869.000000</td>\n",
       "      <td>1.686901e+06</td>\n",
       "      <td>16869.000000</td>\n",
       "      <td>1.686901e+06</td>\n",
       "      <td>1.000000</td>\n",
       "      <td>5095.000000</td>\n",
       "    </tr>\n",
       "  </tbody>\n",
       "</table>\n",
       "</div>"
      ],
      "text/plain": [
       "        DAY_OF_MONTH    DAY_OF_WEEK  ORIGIN_AIRPORT_ID  ORIGIN_AIRPORT_SEQ_ID  \\\n",
       "count  574268.000000  574268.000000      574268.000000           5.742680e+05   \n",
       "mean       15.179477       3.989280       12658.021716           1.265806e+06   \n",
       "std         8.295999       1.988345        1524.563452           1.524561e+05   \n",
       "min         1.000000       1.000000       10135.000000           1.013506e+06   \n",
       "25%         8.000000       2.000000       11292.000000           1.129202e+06   \n",
       "50%        15.000000       4.000000       12889.000000           1.288903e+06   \n",
       "75%        22.000000       6.000000       14027.000000           1.402702e+06   \n",
       "max        29.000000       7.000000       16869.000000           1.686901e+06   \n",
       "\n",
       "       DEST_AIRPORT_ID  DEST_AIRPORT_SEQ_ID      CANCELLED       DISTANCE  \n",
       "count    574268.000000         5.742680e+05  574268.000000  574268.000000  \n",
       "mean      12658.143861         1.265818e+06       0.008942     795.735522  \n",
       "std        1524.594853         1.524592e+05       0.094138     582.960817  \n",
       "min       10135.000000         1.013506e+06       0.000000      31.000000  \n",
       "25%       11292.000000         1.129202e+06       0.000000     369.000000  \n",
       "50%       12889.000000         1.288903e+06       0.000000     641.000000  \n",
       "75%       14027.000000         1.402702e+06       0.000000    1036.000000  \n",
       "max       16869.000000         1.686901e+06       1.000000    5095.000000  "
      ]
     },
     "execution_count": 57,
     "metadata": {},
     "output_type": "execute_result"
    }
   ],
   "source": [
    "df1.describe()"
   ]
  },
  {
   "cell_type": "code",
   "execution_count": 58,
   "metadata": {},
   "outputs": [
    {
     "data": {
      "text/plain": [
       "<matplotlib.axes._subplots.AxesSubplot at 0x7fdb74a3b5d0>"
      ]
     },
     "execution_count": 58,
     "metadata": {},
     "output_type": "execute_result"
    },
    {
     "data": {
      "image/png": "[encoded data removed]",
      "text/plain": [
       "<Figure size 432x288 with 1 Axes>"
      ]
     },
     "metadata": {
      "needs_background": "light"
     },
     "output_type": "display_data"
    }
   ],
   "source": [
    "#Let's check how our target variable is distributed\n",
    "sns.countplot(x = df['CANCELLED'])"
   ]
  },
  {
   "cell_type": "markdown",
   "metadata": {},
   "source": [
    "From the above plot we can see that our data is highly imblanced and we have to use oversampling and undersampling methodologies before we can train the model. \n",
    "But before that's let's do some EDA and understand how our regressors affect the target variable."
   ]
  },
  {
   "cell_type": "code",
   "execution_count": 59,
   "metadata": {},
   "outputs": [
    {
     "name": "stderr",
     "output_type": "stream",
     "text": [
      "/Users/vardhanselvarajan/opt/anaconda3/lib/python3.7/site-packages/ipykernel_launcher.py:4: SettingWithCopyWarning: \n",
      "A value is trying to be set on a copy of a slice from a DataFrame.\n",
      "Try using .loc[row_indexer,col_indexer] = value instead\n",
      "\n",
      "See the caveats in the documentation: https://pandas.pydata.org/pandas-docs/stable/user_guide/indexing.html#returning-a-view-versus-a-copy\n",
      "  after removing the cwd from sys.path.\n"
     ]
    }
   ],
   "source": [
    "#Starting by binning the distance column into four different subgroups \n",
    "bin_labels = ['1','2','3','4']\n",
    "bins_level = [0,400,800,1200,10000] #Including a huge value to include all values above 1200\n",
    "df1['Binned_Distance_Labels'] = pd.cut(df1['DISTANCE'], bins = bins_level, labels = bin_labels )"
   ]
  },
  {
   "cell_type": "code",
   "execution_count": 60,
   "metadata": {},
   "outputs": [
    {
     "data": {
      "text/html": [
       "<div>\n",
       "<style scoped>\n",
       "    .dataframe tbody tr th:only-of-type {\n",
       "        vertical-align: middle;\n",
       "    }\n",
       "\n",
       "    .dataframe tbody tr th {\n",
       "        vertical-align: top;\n",
       "    }\n",
       "\n",
       "    .dataframe thead th {\n",
       "        text-align: right;\n",
       "    }\n",
       "</style>\n",
       "<table border=\"1\" class=\"dataframe\">\n",
       "  <thead>\n",
       "    <tr style=\"text-align: right;\">\n",
       "      <th></th>\n",
       "      <th>DAY_OF_MONTH</th>\n",
       "      <th>DAY_OF_WEEK</th>\n",
       "      <th>OP_CARRIER</th>\n",
       "      <th>ORIGIN_AIRPORT_ID</th>\n",
       "      <th>ORIGIN_AIRPORT_SEQ_ID</th>\n",
       "      <th>ORIGIN</th>\n",
       "      <th>DEST_AIRPORT_ID</th>\n",
       "      <th>DEST_AIRPORT_SEQ_ID</th>\n",
       "      <th>DEST</th>\n",
       "      <th>DEP_TIME_BLK</th>\n",
       "      <th>CANCELLED</th>\n",
       "      <th>DISTANCE</th>\n",
       "      <th>Binned_Distance_Labels</th>\n",
       "    </tr>\n",
       "  </thead>\n",
       "  <tbody>\n",
       "    <tr>\n",
       "      <th>0</th>\n",
       "      <td>1</td>\n",
       "      <td>6</td>\n",
       "      <td>MQ</td>\n",
       "      <td>13930</td>\n",
       "      <td>1393007</td>\n",
       "      <td>ORD</td>\n",
       "      <td>15370</td>\n",
       "      <td>1537002</td>\n",
       "      <td>TUL</td>\n",
       "      <td>1600-1659</td>\n",
       "      <td>0.0</td>\n",
       "      <td>585.0</td>\n",
       "      <td>2</td>\n",
       "    </tr>\n",
       "    <tr>\n",
       "      <th>1</th>\n",
       "      <td>1</td>\n",
       "      <td>6</td>\n",
       "      <td>MQ</td>\n",
       "      <td>12478</td>\n",
       "      <td>1247805</td>\n",
       "      <td>JFK</td>\n",
       "      <td>10693</td>\n",
       "      <td>1069302</td>\n",
       "      <td>BNA</td>\n",
       "      <td>1300-1359</td>\n",
       "      <td>0.0</td>\n",
       "      <td>765.0</td>\n",
       "      <td>2</td>\n",
       "    </tr>\n",
       "    <tr>\n",
       "      <th>2</th>\n",
       "      <td>1</td>\n",
       "      <td>6</td>\n",
       "      <td>MQ</td>\n",
       "      <td>11953</td>\n",
       "      <td>1195302</td>\n",
       "      <td>GNV</td>\n",
       "      <td>13303</td>\n",
       "      <td>1330303</td>\n",
       "      <td>MIA</td>\n",
       "      <td>0800-0859</td>\n",
       "      <td>0.0</td>\n",
       "      <td>294.0</td>\n",
       "      <td>1</td>\n",
       "    </tr>\n",
       "    <tr>\n",
       "      <th>3</th>\n",
       "      <td>1</td>\n",
       "      <td>6</td>\n",
       "      <td>MQ</td>\n",
       "      <td>11298</td>\n",
       "      <td>1129806</td>\n",
       "      <td>DFW</td>\n",
       "      <td>14842</td>\n",
       "      <td>1484202</td>\n",
       "      <td>SJT</td>\n",
       "      <td>0800-0859</td>\n",
       "      <td>0.0</td>\n",
       "      <td>229.0</td>\n",
       "      <td>1</td>\n",
       "    </tr>\n",
       "    <tr>\n",
       "      <th>4</th>\n",
       "      <td>1</td>\n",
       "      <td>6</td>\n",
       "      <td>MQ</td>\n",
       "      <td>14842</td>\n",
       "      <td>1484202</td>\n",
       "      <td>SJT</td>\n",
       "      <td>11298</td>\n",
       "      <td>1129806</td>\n",
       "      <td>DFW</td>\n",
       "      <td>1000-1059</td>\n",
       "      <td>0.0</td>\n",
       "      <td>229.0</td>\n",
       "      <td>1</td>\n",
       "    </tr>\n",
       "  </tbody>\n",
       "</table>\n",
       "</div>"
      ],
      "text/plain": [
       "   DAY_OF_MONTH  DAY_OF_WEEK OP_CARRIER  ORIGIN_AIRPORT_ID  \\\n",
       "0             1            6         MQ              13930   \n",
       "1             1            6         MQ              12478   \n",
       "2             1            6         MQ              11953   \n",
       "3             1            6         MQ              11298   \n",
       "4             1            6         MQ              14842   \n",
       "\n",
       "   ORIGIN_AIRPORT_SEQ_ID ORIGIN  DEST_AIRPORT_ID  DEST_AIRPORT_SEQ_ID DEST  \\\n",
       "0                1393007    ORD            15370              1537002  TUL   \n",
       "1                1247805    JFK            10693              1069302  BNA   \n",
       "2                1195302    GNV            13303              1330303  MIA   \n",
       "3                1129806    DFW            14842              1484202  SJT   \n",
       "4                1484202    SJT            11298              1129806  DFW   \n",
       "\n",
       "  DEP_TIME_BLK  CANCELLED  DISTANCE Binned_Distance_Labels  \n",
       "0    1600-1659        0.0     585.0                      2  \n",
       "1    1300-1359        0.0     765.0                      2  \n",
       "2    0800-0859        0.0     294.0                      1  \n",
       "3    0800-0859        0.0     229.0                      1  \n",
       "4    1000-1059        0.0     229.0                      1  "
      ]
     },
     "execution_count": 60,
     "metadata": {},
     "output_type": "execute_result"
    }
   ],
   "source": [
    "df1.head()"
   ]
  },
  {
   "cell_type": "markdown",
   "metadata": {},
   "source": [
    "So we have binned the distance column. I have used bin labels to be 1,2,3 and 4 just for the ease of use and it can be easily fit into the model without encoding\n",
    "\n",
    "For reference, distances from \n",
    "\n",
    "(0 - 400] miles = 1\n",
    "\n",
    "(400 - 800] miles = 2\n",
    "\n",
    "(800 - 1200] miles = 3\n",
    "\n",
    "(1200 - 10000] miles = 4"
   ]
  },
  {
   "cell_type": "code",
   "execution_count": 61,
   "metadata": {},
   "outputs": [
    {
     "name": "stderr",
     "output_type": "stream",
     "text": [
      "/Users/vardhanselvarajan/opt/anaconda3/lib/python3.7/site-packages/pandas/core/frame.py:3997: SettingWithCopyWarning: \n",
      "A value is trying to be set on a copy of a slice from a DataFrame\n",
      "\n",
      "See the caveats in the documentation: https://pandas.pydata.org/pandas-docs/stable/user_guide/indexing.html#returning-a-view-versus-a-copy\n",
      "  errors=errors,\n"
     ]
    }
   ],
   "source": [
    "#Now we can drop the distance column\n",
    "df1.drop(['DISTANCE'], axis = 1, inplace = True)"
   ]
  },
  {
   "cell_type": "code",
   "execution_count": 103,
   "metadata": {},
   "outputs": [
    {
     "data": {
      "text/plain": [
       "<matplotlib.axes._subplots.AxesSubplot at 0x7fdb48b9e710>"
      ]
     },
     "execution_count": 103,
     "metadata": {},
     "output_type": "execute_result"
    },
    {
     "data": {
      "image/png": "[encoded data removed]",
      "text/plain": [
       "<Figure size 1440x720 with 1 Axes>"
      ]
     },
     "metadata": {
      "needs_background": "light"
     },
     "output_type": "display_data"
    }
   ],
   "source": [
    "fig, ax = plt.subplots(figsize = (20,10))\n",
    "df2 = df1[['ORIGIN','CANCELLED']].loc[df1['CANCELLED'] == 1].groupby('ORIGIN').count().sort_values(by = 'CANCELLED', ascending = False).reset_index() # Got the values of origins with the overall number of flight cancellations\n",
    "sns.barplot(x = 'ORIGIN', y = 'CANCELLED', data = df2.head(10), ax = ax, palette = 'ocean_r')"
   ]
  },
  {
   "cell_type": "markdown",
   "metadata": {},
   "source": [
    "From the graph above, we can see that a lot of flights from Charlotte have been cancelled in the month of February. This could be due to the hard weather conditions in NC.\n",
    "\n",
    "We can also understand from the plot that the origin does play a role in deciding if the flight is going to be cancelled or not. "
   ]
  },
  {
   "cell_type": "code",
   "execution_count": 129,
   "metadata": {},
   "outputs": [
    {
     "data": {
      "text/plain": [
       "Text(0, 0.5, 'Total Number of flights cancelled')"
      ]
     },
     "execution_count": 129,
     "metadata": {},
     "output_type": "execute_result"
    },
    {
     "data": {
      "image/png": "[encoded data removed]",
      "text/plain": [
       "<Figure size 1440x720 with 2 Axes>"
      ]
     },
     "metadata": {
      "needs_background": "light"
     },
     "output_type": "display_data"
    }
   ],
   "source": [
    "#moving on, let's see the relationship between Carriers and cancellations. \n",
    "df3 = df1[['OP_CARRIER','CANCELLED']].loc[df['CANCELLED']==1].groupby('OP_CARRIER').count().reset_index()\n",
    "df4 = df1[['OP_CARRIER','CANCELLED']].groupby('OP_CARRIER').count().reset_index()\n",
    "fig, ax = plt.subplots(1,2,figsize = (20,10))\n",
    "a = sns.barplot(x = 'OP_CARRIER', y = 'CANCELLED', data = df4, palette = \"ocean\",ax = ax[0])\n",
    "a.set_xlabel(\"Carrier\")\n",
    "a.set_ylabel(\"Total number of flights\")\n",
    "b = sns.barplot(x = 'OP_CARRIER', y = 'CANCELLED', data = df3, palette = 'ocean',ax = ax[1])\n",
    "b.set_xlabel(\"Carrier\")\n",
    "b.set_ylabel(\"Total Number of flights cancelled\")"
   ]
  },
  {
   "cell_type": "markdown",
   "metadata": {},
   "source": []
  }
 ],
 "metadata": {
  "kernelspec": {
   "display_name": "Python 3.7.4 64-bit ('base': conda)",
   "language": "python",
   "name": "python37464bitbaseconda797cdb27758e440a96989d75ddbb21fc"
  },
  "language_info": {
   "codemirror_mode": {
    "name": "ipython",
    "version": 3
   },
   "file_extension": ".py",
   "mimetype": "text/x-python",
   "name": "python",
   "nbconvert_exporter": "python",
   "pygments_lexer": "ipython3",
   "version": "3.7.4"
  }
 },
 "nbformat": 4,
 "nbformat_minor": 4
}
